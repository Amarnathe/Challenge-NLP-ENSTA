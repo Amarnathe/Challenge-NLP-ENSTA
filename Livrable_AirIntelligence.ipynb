{
  "nbformat": 4,
  "nbformat_minor": 0,
  "metadata": {
    "colab": {
      "name": "Livrable_AirIntelligence.ipynb",
      "provenance": [],
      "collapsed_sections": []
    },
    "kernelspec": {
      "name": "python3",
      "display_name": "Python 3"
    },
    "language_info": {
      "name": "python"
    }
  },
  "cells": [
    {
      "cell_type": "markdown",
      "source": [
        "#Importations utiles\n"
      ],
      "metadata": {
        "id": "g1AnUmpmoFYi"
      }
    },
    {
      "cell_type": "code",
      "execution_count": null,
      "metadata": {
        "id": "mOPC3lx6ngDL"
      },
      "outputs": [],
      "source": [
        "import pandas as pd\n",
        "import numpy as np\n",
        "from sklearn import preprocessing\n",
        "import nltk\n",
        "#from nltk import SnowballStemmer\n",
        "import spacy\n",
        "#import json\n",
        "#import xgboost as xgb\n",
        "from sklearn.feature_extraction.text import TfidfVectorizer\n",
        "#from sklearn.feature_extraction.text import CountVectorizer\n",
        "from sklearn.feature_extraction import text\n",
        "#from sklearn.metrics.pairwise import sigmoid_kernel\n",
        "from scipy.sparse.linalg import svds\n",
        "from sklearn.model_selection import train_test_split\n",
        "#from sklearn.tree import DecisionTreeClassifier\n",
        "#from sklearn.ensemble import RandomForestClassifier\n",
        "#import lightgbm as lgbm\n",
        "#from lightgbm import LGBMClassifier\n",
        "from scipy.sparse import hstack\n",
        "from sklearn.svm import LinearSVC, SVC\n",
        "from sklearn.metrics import f1_score, accuracy_score\n",
        "import pickle\n"
      ]
    },
    {
      "cell_type": "code",
      "source": [
        "nltk.download('stopwords')"
      ],
      "metadata": {
        "colab": {
          "base_uri": "https://localhost:8080/"
        },
        "id": "XALUYdS6tO1g",
        "outputId": "64bb3fd9-1a98-43bb-ae72-695a7c802aad"
      },
      "execution_count": null,
      "outputs": [
        {
          "output_type": "stream",
          "name": "stdout",
          "text": [
            "[nltk_data] Downloading package stopwords to /root/nltk_data...\n",
            "[nltk_data]   Unzipping corpora/stopwords.zip.\n"
          ]
        },
        {
          "output_type": "execute_result",
          "data": {
            "text/plain": [
              "True"
            ]
          },
          "metadata": {},
          "execution_count": 2
        }
      ]
    },
    {
      "cell_type": "markdown",
      "source": [
        "#Importation et preprocessing des données"
      ],
      "metadata": {
        "id": "mszIYz28oZqk"
      }
    },
    {
      "cell_type": "code",
      "source": [
        "from google_drive_downloader import GoogleDriveDownloader as gdd\n",
        "gdd.download_file_from_google_drive(file_id='1e7b7AXB1isNSoB47ov49BAQshbpqJ5XF',\n",
        "dest_path='./trainingData.csv'),\n",
        "gdd.download_file_from_google_drive(file_id='1RD-Fq9U7Z24tYXEQNQflyxDLhK5RSUZ5',\n",
        "dest_path='./stopwords-fr.json')"
      ],
      "metadata": {
        "id": "yHZg6zstsD_K",
        "colab": {
          "base_uri": "https://localhost:8080/"
        },
        "outputId": "85cb8c40-6816-4feb-ff2a-6497569f7afa"
      },
      "execution_count": null,
      "outputs": [
        {
          "output_type": "stream",
          "name": "stdout",
          "text": [
            "Downloading 1e7b7AXB1isNSoB47ov49BAQshbpqJ5XF into ./trainingData.csv... Done.\n",
            "Downloading 1RD-Fq9U7Z24tYXEQNQflyxDLhK5RSUZ5 into ./stopwords-fr.json... Done.\n"
          ]
        }
      ]
    },
    {
      "cell_type": "code",
      "source": [
        "df = pd.read_csv('trainingData.csv',sep=\";\")\n",
        "df = df.iloc[:,:-3] \n",
        "df=df[df.LIENWIKI.isna()==False]\n",
        "#df.LIENWIKI = df.LIENWIKI.str.replace(\"/wikisup/base%20de%20connaissance%20support/\",'')\n",
        "df.ENONCE_PROBLEME_P = df.ENONCE_PROBLEME_P.str.replace(\"description de\",'')\n",
        "df = df.apply(lambda x: x.astype(str).str.lower())\n",
        "#df[\"text\"] = df.DESIGNATION + \" \" + df.NOMENCLATURE_PROBLEME + \" \" + df.ENONCE_PROBLEME_P\n",
        "df.drop([\"STATUT\",\"INCIDENT\",\"DESIGNATION_PRODUIT\",\"DESIGNATION_EQUIPEMENT\",\"DESIGNATION_APP\",\"CODE_PRODUIT\",\"CODE_EQUIPEMENT\",\"CODE_APP\"],axis=1,inplace=True)"
      ],
      "metadata": {
        "id": "LR0ogaI4ojPt"
      },
      "execution_count": null,
      "outputs": []
    },
    {
      "cell_type": "code",
      "source": [
        "cols = df.select_dtypes(include=[np.object]).columns\n",
        "df[cols[:-1]] = df[cols[:-1]].apply(lambda x: x.str.normalize('NFKD').str.encode('ascii', errors='ignore').str.decode('utf-8'))\n",
        "df[cols[:-1]] = df[cols[:-1]].apply(lambda x: x.str.replace('[^\\dA-Za-z]', ' '))\n",
        "df[cols[:-1]] = df[cols[:-1]].apply(lambda x: x.str.replace('xx', ''))\n",
        "df[cols[:-1]] = df[cols[:-1]].apply(lambda x: x.str.replace(r'\\b\\w\\b', '').str.replace(r'\\s+', ' '))"
      ],
      "metadata": {
        "colab": {
          "base_uri": "https://localhost:8080/"
        },
        "id": "B3QVnYisz85v",
        "outputId": "e9f067c5-9b02-4d3c-96d8-e977d3ba4a25"
      },
      "execution_count": null,
      "outputs": [
        {
          "output_type": "stream",
          "name": "stderr",
          "text": [
            "/usr/local/lib/python3.7/dist-packages/ipykernel_launcher.py:1: DeprecationWarning: `np.object` is a deprecated alias for the builtin `object`. To silence this warning, use `object` by itself. Doing this will not modify any behavior and is safe. \n",
            "Deprecated in NumPy 1.20; for more details and guidance: https://numpy.org/devdocs/release/1.20.0-notes.html#deprecations\n",
            "  \"\"\"Entry point for launching an IPython kernel.\n",
            "/usr/local/lib/python3.7/dist-packages/ipykernel_launcher.py:3: FutureWarning: The default value of regex will change from True to False in a future version.\n",
            "  This is separate from the ipykernel package so we can avoid doing imports until\n",
            "/usr/local/lib/python3.7/dist-packages/ipykernel_launcher.py:5: FutureWarning: The default value of regex will change from True to False in a future version.\n",
            "  \"\"\"\n"
          ]
        }
      ]
    },
    {
      "cell_type": "code",
      "source": [
        "le = preprocessing.LabelEncoder()\n",
        "le.fit(df.LIENWIKI.unique())\n",
        "df.LIENWIKI = le.transform(df.LIENWIKI)"
      ],
      "metadata": {
        "id": "gomFN5mOpQL1"
      },
      "execution_count": null,
      "outputs": []
    },
    {
      "cell_type": "code",
      "source": [
        "## Removing stopwords\n",
        "#list2 = ['utilisateur','wiki','description','lien','utilise','ok','probleme','actions','depuis','quand','oui','non','si','autre','ca','aujourd','hui','auj','u','lutilisateur','personne','autres','utilisateurs','car']\n",
        "from nltk.corpus import stopwords\n",
        "stp_list = stopwords.words('english') + stopwords.words('french') \n",
        "df['ENONCE_PROBLEME_P'] = df['ENONCE_PROBLEME_P'].apply(lambda x: ' '.join([item for item in x.split() if item not in stp_list]))"
      ],
      "metadata": {
        "id": "xJwzm4DPtHyn"
      },
      "execution_count": null,
      "outputs": []
    },
    {
      "cell_type": "markdown",
      "source": [
        "#Extraction des features\n"
      ],
      "metadata": {
        "id": "K7UuHRTV3IU3"
      }
    },
    {
      "cell_type": "code",
      "source": [
        "cv1 = TfidfVectorizer(lowercase=True, min_df=3,  max_features=None,\n",
        "                      strip_accents='unicode', analyzer='word', token_pattern=r'\\w{1,}',\n",
        "                      ngram_range=(1, 3))\n",
        "                      #stop_words= stop_wordss)\n",
        "\n",
        "vectorized1 = cv1.fit_transform(df.loc[:,\"DESIGNATION\"])"
      ],
      "metadata": {
        "id": "1zllmzVa3MxG"
      },
      "execution_count": null,
      "outputs": []
    },
    {
      "cell_type": "code",
      "source": [
        "cv2 = TfidfVectorizer(lowercase=True, min_df=3,  max_features=None,\n",
        "                      strip_accents='unicode', analyzer='word', token_pattern=r'\\w{1,}',\n",
        "                      ngram_range=(1, 3))\n",
        "                      #stop_words= stop_wordss)\n",
        "\n",
        "vectorized2 = cv2.fit_transform(df.loc[:,\"ENONCE_PROBLEME_P\"])"
      ],
      "metadata": {
        "id": "bvcjsGmf3hpa"
      },
      "execution_count": null,
      "outputs": []
    },
    {
      "cell_type": "code",
      "source": [
        "cv3 = TfidfVectorizer(lowercase=True, min_df=3,  max_features=None,\n",
        "                      strip_accents='unicode', analyzer='word', token_pattern=r'\\w{1,}',\n",
        "                      ngram_range=(1, 3))\n",
        "                      #stop_words= stop_wordss)\n",
        "\n",
        "vectorized3 = cv3.fit_transform(df.loc[:,\"NOMENCLATURE_PROBLEME\"])"
      ],
      "metadata": {
        "id": "Yi53g2FZ3hug"
      },
      "execution_count": null,
      "outputs": []
    },
    {
      "cell_type": "code",
      "source": [
        "Train_features = hstack([vectorized1,vectorized2,vectorized3])"
      ],
      "metadata": {
        "id": "brvrRwQp34Ge"
      },
      "execution_count": null,
      "outputs": []
    },
    {
      "cell_type": "markdown",
      "source": [
        "# Training"
      ],
      "metadata": {
        "id": "4BJxfmw44Kbf"
      }
    },
    {
      "cell_type": "code",
      "source": [
        "# SVC + kernel \n",
        "svc = SVC(kernel='rbf', C=12.5, gamma=0.58, probability=True)\n",
        "svc.fit(Train_features, df.LIENWIKI)"
      ],
      "metadata": {
        "colab": {
          "base_uri": "https://localhost:8080/"
        },
        "id": "GHv1BFSY4N5S",
        "outputId": "6627e715-8ade-478f-f959-6355ba1a3356"
      },
      "execution_count": null,
      "outputs": [
        {
          "output_type": "execute_result",
          "data": {
            "text/plain": [
              "SVC(C=12.5, gamma=0.58, probability=True)"
            ]
          },
          "metadata": {},
          "execution_count": 108
        }
      ]
    },
    {
      "cell_type": "code",
      "source": [
        "filename = 'finalizedSVC_model.sav'\n",
        "pickle.dump(svc, open(filename, 'wb'))"
      ],
      "metadata": {
        "id": "LwX7_mE16Wlh"
      },
      "execution_count": null,
      "outputs": []
    },
    {
      "cell_type": "markdown",
      "source": [
        "# Testing"
      ],
      "metadata": {
        "id": "kidUZKrE7lRt"
      }
    },
    {
      "cell_type": "code",
      "source": [
        "test_df = pd.read_csv('testData.csv',sep=\";\")\n",
        "(test_df.iloc[:,:]).head()\n"
      ],
      "metadata": {
        "id": "PV_avNmu7q2D",
        "colab": {
          "base_uri": "https://localhost:8080/",
          "height": 443
        },
        "outputId": "e6425bcb-5458-4f36-ca4f-e23b1848d897"
      },
      "execution_count": null,
      "outputs": [
        {
          "output_type": "execute_result",
          "data": {
            "text/plain": [
              "   INCIDENT   STATUT                                        DESIGNATION  \\\n",
              "0    639492  Archivé  #ADMINISTRATION/COMPTE/REINITIALISATION MOT DE...   \n",
              "1    644449  Archivé                    #MATERIEL/TELEPHONIE/CISCO WIFI   \n",
              "2    645665  Archivé                    #MATERIEL/TELEPHONIE/CISCO WIFI   \n",
              "3    651210  Archivé                            #MATERIEL/TELEPHONIE/IP   \n",
              "4    655283  Archivé                    #MATERIEL/TELEPHONIE/CISCO WIFI   \n",
              "\n",
              "   CODE_PRODUIT               DESIGNATION_PRODUIT  CODE_EQUIPEMENT  \\\n",
              "0           NaN                               NaN          11267.0   \n",
              "1      454308.0        LECTEUR MINI FLASH USB LK2         216315.0   \n",
              "2           NaN                               NaN          63080.0   \n",
              "3           NaN                               NaN          63110.0   \n",
              "4      334897.0  DOUCHETTE DATALOGIC TOUCH 90 PRO         190848.0   \n",
              "\n",
              "    DESIGNATION_EQUIPEMENT  CODE_APP DESIGNATION_APP  \\\n",
              "0         OPTIPLEX 3020SFF    1344.0      ADMINTOOLS   \n",
              "1                      NaN       0.0      Sans Objet   \n",
              "2        Désignation nulle       0.0      Sans Objet   \n",
              "3  LENOVO THINKCENTRE M700       0.0      Sans Objet   \n",
              "4        Désignation nulle       0.0      Sans Objet   \n",
              "\n",
              "              NOMENCLATURE_PROBLEME  \\\n",
              "0                    Acces, Comptes   \n",
              "1                        Telephonie   \n",
              "2  Pb fonctionnalites telephoniques   \n",
              "3                              ToIP   \n",
              "4                              ToIP   \n",
              "\n",
              "                                   ENONCE_PROBLEME_P  \\\n",
              "0  description de l'incident:l'user signale que q...   \n",
              "1  description de l'incident :le capot arriere du...   \n",
              "2  description de l'incident :l'utilisateur nous ...   \n",
              "3  description de l'incident : l'utilisateur me s...   \n",
              "4  description de l'incident : l'utilisateur a me...   \n",
              "\n",
              "                                            LIENWIKI  \n",
              "0  /wikisup/base%20de%20connaissance%20support/co...  \n",
              "1  /wikisup/base%20de%20connaissance%20support/su...  \n",
              "2  /wikisup/base%20de%20connaissance%20support/su...  \n",
              "3  /wikisup/base%20de%20connaissance%20support/su...  \n",
              "4  /wikisup/base%20de%20connaissance%20support/su...  "
            ],
            "text/html": [
              "\n",
              "  <div id=\"df-d7bd35c2-7d9f-4487-a13c-676ec1a9c61b\">\n",
              "    <div class=\"colab-df-container\">\n",
              "      <div>\n",
              "<style scoped>\n",
              "    .dataframe tbody tr th:only-of-type {\n",
              "        vertical-align: middle;\n",
              "    }\n",
              "\n",
              "    .dataframe tbody tr th {\n",
              "        vertical-align: top;\n",
              "    }\n",
              "\n",
              "    .dataframe thead th {\n",
              "        text-align: right;\n",
              "    }\n",
              "</style>\n",
              "<table border=\"1\" class=\"dataframe\">\n",
              "  <thead>\n",
              "    <tr style=\"text-align: right;\">\n",
              "      <th></th>\n",
              "      <th>INCIDENT</th>\n",
              "      <th>STATUT</th>\n",
              "      <th>DESIGNATION</th>\n",
              "      <th>CODE_PRODUIT</th>\n",
              "      <th>DESIGNATION_PRODUIT</th>\n",
              "      <th>CODE_EQUIPEMENT</th>\n",
              "      <th>DESIGNATION_EQUIPEMENT</th>\n",
              "      <th>CODE_APP</th>\n",
              "      <th>DESIGNATION_APP</th>\n",
              "      <th>NOMENCLATURE_PROBLEME</th>\n",
              "      <th>ENONCE_PROBLEME_P</th>\n",
              "      <th>LIENWIKI</th>\n",
              "    </tr>\n",
              "  </thead>\n",
              "  <tbody>\n",
              "    <tr>\n",
              "      <th>0</th>\n",
              "      <td>639492</td>\n",
              "      <td>Archivé</td>\n",
              "      <td>#ADMINISTRATION/COMPTE/REINITIALISATION MOT DE...</td>\n",
              "      <td>NaN</td>\n",
              "      <td>NaN</td>\n",
              "      <td>11267.0</td>\n",
              "      <td>OPTIPLEX 3020SFF</td>\n",
              "      <td>1344.0</td>\n",
              "      <td>ADMINTOOLS</td>\n",
              "      <td>Acces, Comptes</td>\n",
              "      <td>description de l'incident:l'user signale que q...</td>\n",
              "      <td>/wikisup/base%20de%20connaissance%20support/co...</td>\n",
              "    </tr>\n",
              "    <tr>\n",
              "      <th>1</th>\n",
              "      <td>644449</td>\n",
              "      <td>Archivé</td>\n",
              "      <td>#MATERIEL/TELEPHONIE/CISCO WIFI</td>\n",
              "      <td>454308.0</td>\n",
              "      <td>LECTEUR MINI FLASH USB LK2</td>\n",
              "      <td>216315.0</td>\n",
              "      <td>NaN</td>\n",
              "      <td>0.0</td>\n",
              "      <td>Sans Objet</td>\n",
              "      <td>Telephonie</td>\n",
              "      <td>description de l'incident :le capot arriere du...</td>\n",
              "      <td>/wikisup/base%20de%20connaissance%20support/su...</td>\n",
              "    </tr>\n",
              "    <tr>\n",
              "      <th>2</th>\n",
              "      <td>645665</td>\n",
              "      <td>Archivé</td>\n",
              "      <td>#MATERIEL/TELEPHONIE/CISCO WIFI</td>\n",
              "      <td>NaN</td>\n",
              "      <td>NaN</td>\n",
              "      <td>63080.0</td>\n",
              "      <td>Désignation nulle</td>\n",
              "      <td>0.0</td>\n",
              "      <td>Sans Objet</td>\n",
              "      <td>Pb fonctionnalites telephoniques</td>\n",
              "      <td>description de l'incident :l'utilisateur nous ...</td>\n",
              "      <td>/wikisup/base%20de%20connaissance%20support/su...</td>\n",
              "    </tr>\n",
              "    <tr>\n",
              "      <th>3</th>\n",
              "      <td>651210</td>\n",
              "      <td>Archivé</td>\n",
              "      <td>#MATERIEL/TELEPHONIE/IP</td>\n",
              "      <td>NaN</td>\n",
              "      <td>NaN</td>\n",
              "      <td>63110.0</td>\n",
              "      <td>LENOVO THINKCENTRE M700</td>\n",
              "      <td>0.0</td>\n",
              "      <td>Sans Objet</td>\n",
              "      <td>ToIP</td>\n",
              "      <td>description de l'incident : l'utilisateur me s...</td>\n",
              "      <td>/wikisup/base%20de%20connaissance%20support/su...</td>\n",
              "    </tr>\n",
              "    <tr>\n",
              "      <th>4</th>\n",
              "      <td>655283</td>\n",
              "      <td>Archivé</td>\n",
              "      <td>#MATERIEL/TELEPHONIE/CISCO WIFI</td>\n",
              "      <td>334897.0</td>\n",
              "      <td>DOUCHETTE DATALOGIC TOUCH 90 PRO</td>\n",
              "      <td>190848.0</td>\n",
              "      <td>Désignation nulle</td>\n",
              "      <td>0.0</td>\n",
              "      <td>Sans Objet</td>\n",
              "      <td>ToIP</td>\n",
              "      <td>description de l'incident : l'utilisateur a me...</td>\n",
              "      <td>/wikisup/base%20de%20connaissance%20support/su...</td>\n",
              "    </tr>\n",
              "  </tbody>\n",
              "</table>\n",
              "</div>\n",
              "      <button class=\"colab-df-convert\" onclick=\"convertToInteractive('df-d7bd35c2-7d9f-4487-a13c-676ec1a9c61b')\"\n",
              "              title=\"Convert this dataframe to an interactive table.\"\n",
              "              style=\"display:none;\">\n",
              "        \n",
              "  <svg xmlns=\"http://www.w3.org/2000/svg\" height=\"24px\"viewBox=\"0 0 24 24\"\n",
              "       width=\"24px\">\n",
              "    <path d=\"M0 0h24v24H0V0z\" fill=\"none\"/>\n",
              "    <path d=\"M18.56 5.44l.94 2.06.94-2.06 2.06-.94-2.06-.94-.94-2.06-.94 2.06-2.06.94zm-11 1L8.5 8.5l.94-2.06 2.06-.94-2.06-.94L8.5 2.5l-.94 2.06-2.06.94zm10 10l.94 2.06.94-2.06 2.06-.94-2.06-.94-.94-2.06-.94 2.06-2.06.94z\"/><path d=\"M17.41 7.96l-1.37-1.37c-.4-.4-.92-.59-1.43-.59-.52 0-1.04.2-1.43.59L10.3 9.45l-7.72 7.72c-.78.78-.78 2.05 0 2.83L4 21.41c.39.39.9.59 1.41.59.51 0 1.02-.2 1.41-.59l7.78-7.78 2.81-2.81c.8-.78.8-2.07 0-2.86zM5.41 20L4 18.59l7.72-7.72 1.47 1.35L5.41 20z\"/>\n",
              "  </svg>\n",
              "      </button>\n",
              "      \n",
              "  <style>\n",
              "    .colab-df-container {\n",
              "      display:flex;\n",
              "      flex-wrap:wrap;\n",
              "      gap: 12px;\n",
              "    }\n",
              "\n",
              "    .colab-df-convert {\n",
              "      background-color: #E8F0FE;\n",
              "      border: none;\n",
              "      border-radius: 50%;\n",
              "      cursor: pointer;\n",
              "      display: none;\n",
              "      fill: #1967D2;\n",
              "      height: 32px;\n",
              "      padding: 0 0 0 0;\n",
              "      width: 32px;\n",
              "    }\n",
              "\n",
              "    .colab-df-convert:hover {\n",
              "      background-color: #E2EBFA;\n",
              "      box-shadow: 0px 1px 2px rgba(60, 64, 67, 0.3), 0px 1px 3px 1px rgba(60, 64, 67, 0.15);\n",
              "      fill: #174EA6;\n",
              "    }\n",
              "\n",
              "    [theme=dark] .colab-df-convert {\n",
              "      background-color: #3B4455;\n",
              "      fill: #D2E3FC;\n",
              "    }\n",
              "\n",
              "    [theme=dark] .colab-df-convert:hover {\n",
              "      background-color: #434B5C;\n",
              "      box-shadow: 0px 1px 3px 1px rgba(0, 0, 0, 0.15);\n",
              "      filter: drop-shadow(0px 1px 2px rgba(0, 0, 0, 0.3));\n",
              "      fill: #FFFFFF;\n",
              "    }\n",
              "  </style>\n",
              "\n",
              "      <script>\n",
              "        const buttonEl =\n",
              "          document.querySelector('#df-d7bd35c2-7d9f-4487-a13c-676ec1a9c61b button.colab-df-convert');\n",
              "        buttonEl.style.display =\n",
              "          google.colab.kernel.accessAllowed ? 'block' : 'none';\n",
              "\n",
              "        async function convertToInteractive(key) {\n",
              "          const element = document.querySelector('#df-d7bd35c2-7d9f-4487-a13c-676ec1a9c61b');\n",
              "          const dataTable =\n",
              "            await google.colab.kernel.invokeFunction('convertToInteractive',\n",
              "                                                     [key], {});\n",
              "          if (!dataTable) return;\n",
              "\n",
              "          const docLinkHtml = 'Like what you see? Visit the ' +\n",
              "            '<a target=\"_blank\" href=https://colab.research.google.com/notebooks/data_table.ipynb>data table notebook</a>'\n",
              "            + ' to learn more about interactive tables.';\n",
              "          element.innerHTML = '';\n",
              "          dataTable['output_type'] = 'display_data';\n",
              "          await google.colab.output.renderOutput(dataTable, element);\n",
              "          const docLink = document.createElement('div');\n",
              "          docLink.innerHTML = docLinkHtml;\n",
              "          element.appendChild(docLink);\n",
              "        }\n",
              "      </script>\n",
              "    </div>\n",
              "  </div>\n",
              "  "
            ]
          },
          "metadata": {},
          "execution_count": 23
        }
      ]
    },
    {
      "cell_type": "code",
      "source": [
        "# Preprocessing\n",
        "\n",
        "test_df = test_df[test_df.LIENWIKI.isna()==False]\n",
        "#df.LIENWIKI = df.LIENWIKI.str.replace(\"/wikisup/base%20de%20connaissance%20support/\",'')\n",
        "test_df.ENONCE_PROBLEME_P = test_df.ENONCE_PROBLEME_P.str.replace(\"description de\",'')\n",
        "test_df = test_df.apply(lambda x: x.astype(str).str.lower())\n",
        "#df[\"text\"] = df.DESIGNATION + \" \" + df.NOMENCLATURE_PROBLEME + \" \" + df.ENONCE_PROBLEME_P\n",
        "test_df.drop([\"STATUT\",\"INCIDENT\",\"DESIGNATION_PRODUIT\",\"DESIGNATION_EQUIPEMENT\",\"DESIGNATION_APP\",\"CODE_PRODUIT\",\"CODE_EQUIPEMENT\",\"CODE_APP\"],axis=1,inplace=True)\n",
        "\n",
        "cols = test_df.select_dtypes(include=[np.object]).columns\n",
        "test_df[cols[:-1]] = test_df[cols[:-1]].apply(lambda x: x.str.normalize('NFKD').str.encode('ascii', errors='ignore').str.decode('utf-8'))\n",
        "test_df[cols[:-1]] = test_df[cols[:-1]].apply(lambda x: x.str.replace('[^\\dA-Za-z]', ' '))\n",
        "test_df[cols[:-1]] = test_df[cols[:-1]].apply(lambda x: x.str.replace('xx', ''))\n",
        "test_df[cols[:-1]] = test_df[cols[:-1]].apply(lambda x: x.str.replace(r'\\b\\w\\b', '').str.replace(r'\\s+', ' '))\n",
        "\n",
        "test_df.LIENWIKI = le.transform(test_df.LIENWIKI)\n",
        "\n",
        "test_df['ENONCE_PROBLEME_P'] = test_df['ENONCE_PROBLEME_P'].apply(lambda x: ' '.join([item for item in x.split() if item not in stp_list]))"
      ],
      "metadata": {
        "id": "NnRFEZtE-Nai",
        "outputId": "3211e291-c788-4f95-acdd-40f142acd055",
        "colab": {
          "base_uri": "https://localhost:8080/"
        }
      },
      "execution_count": null,
      "outputs": [
        {
          "output_type": "stream",
          "name": "stderr",
          "text": [
            "/usr/local/lib/python3.7/dist-packages/pandas/core/generic.py:5516: SettingWithCopyWarning: \n",
            "A value is trying to be set on a copy of a slice from a DataFrame.\n",
            "Try using .loc[row_indexer,col_indexer] = value instead\n",
            "\n",
            "See the caveats in the documentation: https://pandas.pydata.org/pandas-docs/stable/user_guide/indexing.html#returning-a-view-versus-a-copy\n",
            "  self[name] = value\n",
            "/usr/local/lib/python3.7/dist-packages/ipykernel_launcher.py:10: DeprecationWarning: `np.object` is a deprecated alias for the builtin `object`. To silence this warning, use `object` by itself. Doing this will not modify any behavior and is safe. \n",
            "Deprecated in NumPy 1.20; for more details and guidance: https://numpy.org/devdocs/release/1.20.0-notes.html#deprecations\n",
            "  # Remove the CWD from sys.path while we load stuff.\n",
            "/usr/local/lib/python3.7/dist-packages/ipykernel_launcher.py:12: FutureWarning: The default value of regex will change from True to False in a future version.\n",
            "  if sys.path[0] == '':\n",
            "/usr/local/lib/python3.7/dist-packages/ipykernel_launcher.py:14: FutureWarning: The default value of regex will change from True to False in a future version.\n",
            "  \n"
          ]
        }
      ]
    },
    {
      "cell_type": "code",
      "source": [
        "# Extraction des features\n",
        "\n",
        "test_vectorized1 = cv1.transform(test_df.loc[:,\"DESIGNATION\"])\n",
        "test_vectorized2 = cv2.transform(test_df.loc[:,\"ENONCE_PROBLEME_P\"])\n",
        "test_vectorized3 = cv3.transform(test_df.loc[:,\"NOMENCLATURE_PROBLEME\"])\n",
        "\n",
        "Test_features = hstack([test_vectorized1,test_vectorized2,test_vectorized3])"
      ],
      "metadata": {
        "id": "gOZ9Y7UY_ew6"
      },
      "execution_count": null,
      "outputs": []
    },
    {
      "cell_type": "code",
      "source": [
        "# Importation du modèle\n",
        "filename = 'finalizedSVC_model.sav'\n",
        "loaded_model = pickle.load(open(filename, 'rb'))"
      ],
      "metadata": {
        "id": "mGKQFPvgApcJ"
      },
      "execution_count": null,
      "outputs": []
    },
    {
      "cell_type": "code",
      "source": [
        "ypred_proba= loaded_model.predict_proba(Test_features)\n",
        "y_test = test_df.LIENWIKI\n",
        "\n"
      ],
      "metadata": {
        "id": "k0OVVbTjCDP6"
      },
      "execution_count": null,
      "outputs": []
    },
    {
      "cell_type": "code",
      "source": [
        "y_test = test_df.LIENWIKI\n",
        "ypred_proba.shape"
      ],
      "metadata": {
        "colab": {
          "base_uri": "https://localhost:8080/"
        },
        "id": "AQM30kQYiJ9p",
        "outputId": "c2a83f7a-cba1-4559-e9f9-51240dc279bb"
      },
      "execution_count": null,
      "outputs": [
        {
          "output_type": "execute_result",
          "data": {
            "text/plain": [
              "(13464, 30)"
            ]
          },
          "metadata": {},
          "execution_count": 38
        }
      ]
    },
    {
      "cell_type": "code",
      "source": [
        "\n",
        "best_indexes = np.argpartition(ypred_proba,np.argmin(ypred_proba,axis=1))[:,-3:]\n",
        "first = loaded_model.classes_[best_indexes[:,-1]]\n",
        "second = loaded_model.classes_[best_indexes[:,-2]]\n",
        "third = loaded_model.classes_[best_indexes[:,-3]]\n",
        "Top_3 = [first, second, third]\n",
        "ypred_t1 = (y_test == first)\n",
        "t2 = (y_test == second) \n",
        "t3 = (y_test == third)\n",
        "ypred=np.logical_or(ypred_t1,t2)\n",
        "ypred_t3 = np.logical_or(ypred,t3)"
      ],
      "metadata": {
        "id": "hbcck0kFiBz4"
      },
      "execution_count": null,
      "outputs": []
    },
    {
      "cell_type": "code",
      "source": [
        "print(\"Top 1:\")\n",
        "print(f\"Accuracy score: {accuracy_score(y_test,first)}\")\n",
        "print(\"f1 score: {}\".format(f1_score(y_test,first,average=\"macro\")))\n",
        "print(\"Top 3:\")\n",
        "print(f\"Accuracy score: {ypred_t3.sum()/ypred_t3.shape[0]}\")\n",
        "#print(\"f1 score: {}\".format(f1_score(y_test,first,average=\"macro\")))"
      ],
      "metadata": {
        "colab": {
          "base_uri": "https://localhost:8080/"
        },
        "id": "Hk7m-bISJdLf",
        "outputId": "dff05b92-bce9-429f-a4aa-aae344fe1d94"
      },
      "execution_count": null,
      "outputs": [
        {
          "output_type": "stream",
          "name": "stdout",
          "text": [
            "Top 1:\n",
            "Accuracy score: 0.9692513368983957\n",
            "f1 score: 0.9615546759575068\n",
            "Top 3:\n",
            "Accuracy score: 0.9922756981580511\n"
          ]
        }
      ]
    }
  ]
}